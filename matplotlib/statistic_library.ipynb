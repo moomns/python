{
 "cells": [
  {
   "cell_type": "code",
   "execution_count": 1,
   "metadata": {
    "collapsed": true
   },
   "outputs": [],
   "source": [
    "%matplotlib inline"
   ]
  },
  {
   "cell_type": "code",
   "execution_count": 2,
   "metadata": {
    "collapsed": true
   },
   "outputs": [],
   "source": [
    "import numpy as np\n",
    "import pandas as pd\n",
    "from pandas import DataFrame\n",
    "import matplotlib.pyplot as plt"
   ]
  },
  {
   "cell_type": "code",
   "execution_count": 3,
   "metadata": {
    "collapsed": true
   },
   "outputs": [
    {
     "data": {
      "text/plain": [
       "'\\n対応のある/ないt検定\\nANOVA/分散分析\\nTukey HSD/多重比較\\nDunnet /基準群vsの多重比較\\nサンプルサイズ設計\\nWilcoxon/ノンパラの中央値\\nマンホイットニー/ノンパラの中央値\\nKruskal wallis/ノンパラのANOVA\\nコルモゴロフ-スミルノフ検定/正規性or基準分布との同一性\\n正規化相互相関\\nピアソンの相関係数\\nスピアマンの相関係数/ノンパラの相関\\n'"
      ]
     },
     "execution_count": 3,
     "metadata": {},
     "output_type": "execute_result"
    }
   ],
   "source": [
    "#KL divergence\n",
    "from scipy.stats import entropy\n",
    "#entropy(cumsum_lh_y[0], cumsum_lh_y[1])\n",
    "\n",
    "#コサイン類似度\n",
    "from sklearn.metrics.pairwise import cosine_similarity\n",
    "#cosine_similarity(cumsum_lh_y[0].reshape(1, -1), cumsum_lh_y[1].reshape(1, -1))\n",
    "\n",
    "#np.correlate(cumsum_lh_y[0], cumsum_lh_y[4], \"full\")\n",
    "\n",
    "#対応のある/ないt検定\n",
    "#ANOVA/分散分析\n",
    "#Tukey HSD/多重比較\n",
    "#Dunnet /基準群vsの多重比較\n",
    "#サンプルサイズ設計\n",
    "#Wilcoxon/ノンパラの中央値\n",
    "#マンホイットニー/ノンパラの中央値\n",
    "#Kruskal wallis/ノンパラのANOVA\n",
    "#コルモゴロフ-スミルノフ検定/正規性or基準分布との同一性\n",
    "\"\"\"\n",
    "それぞれの母集団の経験分布を計算して、その差が最も大きくなるところを検定統計量としている\n",
    "ノンパラの検定で、標本が同一分布から生成されたかどうかを検定\n",
    "対象の分布が正規分布であることを仮定しない\n",
    "\"\"\"\n",
    "from scipy import stats\n",
    "#stats.ks_2samp(x1, x2)\n",
    "\n",
    "\n",
    "#正規化相互相関\n",
    "def normalized_cross_correlation(a, b):\n",
    "    \"\"\"\n",
    "    時系列信号a, bに対して、正規化相互相関 [-1, 1]を返す\n",
    "    \"\"\"\n",
    "    #https://stackoverflow.com/questions/53436231/normalized-cross-correlation-in-python\n",
    "    a = (a - np.mean(a)) / (np.std(a) * len(a))\n",
    "    b = (b - np.mean(b)) / (np.std(b))\n",
    "    c = np.correlate(a, b, 'full')\n",
    "    return c\n",
    "\n",
    "\n",
    "def unbiased_std(x):\n",
    "    \"\"\"\n",
    "    不偏標準偏差\n",
    "    \"\"\"\n",
    "    return np.std(x, ddof=1)\n",
    "\n",
    "\n",
    "#ピアソンの相関係数\n",
    "#スピアマンの相関係数/ノンパラの相関\n"
   ]
  },
  {
   "cell_type": "code",
   "execution_count": null,
   "metadata": {},
   "outputs": [],
   "source": [
    "\"\"\"\n",
    "q-qプロット\n",
    "\"\"\"\n",
    "\n",
    "#X, Y:分布が同一かどうかを評価したいサンプル\n",
    "\"\"\"\n",
    "#test code A\n",
    "xd = np.linspace(0, 1, 100)\n",
    "xx0 = np.linspace(0, 1, len(X))\n",
    "yy0 = np.array(sorted(X))\n",
    "f0 = interp1d(xx0, yy0, kind=\"cubic\")(xd)\n",
    "\n",
    "xx1 = np.linspace(0, 1, len(Y))\n",
    "yy1 = np.array(sorted(Y))\n",
    "f1 = interp1d(xx1, yy1, kind=\"cubic\")(xd)\n",
    "\n",
    "plt.figure(figsize=(6,6))\n",
    "plt.plot(f0, f1, color=\"k\", label=\"q-q plot\")\n",
    "plt.plot([f0.min(), f0.max()], [f1.min(), f1.max()], color=\"b\", label=\"baseline\")\n",
    "plt.xlim([f0.min(), f0.max()])\n",
    "plt.ylim([f1.min(), f1.max()])\n",
    "\n",
    "plt.title(\"Splined q-q plot\")\n",
    "plt.legend()\n",
    "\"\"\"\n",
    "\n",
    "\"\"\"\n",
    "testcode B\n",
    "\n",
    "from statsmodels.graphics.gofplots import ProbPlot, qqplot_2samples\n",
    "pp_x = ProbPlot(X)\n",
    "pp_y = ProbPlot(np.random.choice(Y), len(X))\n",
    "qqplot_2samples(pp_x, pp_y)\n",
    "\"\"\""
   ]
  },
  {
   "cell_type": "code",
   "execution_count": null,
   "metadata": {},
   "outputs": [],
   "source": []
  },
  {
   "cell_type": "code",
   "execution_count": null,
   "metadata": {},
   "outputs": [],
   "source": [
    "##\n",
    "# Brunner-Munzel検定\n",
    "# http://ajhjhaf.hatenablog.com/entry/2018/12/22/160652\n",
    "##\n",
    "\n",
    "\"\"\"\n",
    "不当分散のときに使えるノンパラメトリック検定です。\n",
    "ランクから、得られたデータの中央値に有意差があるか検出します。 \n",
    "ノンパラメトリックの検定では、Wilcoxon-Mann-WhitneyのU検定が非常に有名ですが、\n",
    "この検定は不当分散の場合には第一種の過誤を得る確率が5%にならない場合があり、\n",
    "適切な手法として使えません。 詳しい調査には、以下のような先行記事があります。\n",
    "#http://hoxo-m.hatenablog.com/entry/20150217/p1\n",
    "\"\"\"\n",
    "\n",
    "#from scipy ver 1.2.0\n",
    "from collections import namedtuple\n",
    "from scipy.stats import rankdata\n",
    "from scipy.stats import distributions\n",
    "\n",
    "def _contains_nan(a, nan_policy='propagate'):\n",
    "    policies = ['propagate', 'raise', 'omit']\n",
    "    if nan_policy not in policies:\n",
    "        raise ValueError(\"nan_policy must be one of {%s}\" %\n",
    "                         ', '.join(\"'%s'\" % s for s in policies))\n",
    "    try:\n",
    "        # Calling np.sum to avoid creating a huge array into memory\n",
    "        # e.g. np.isnan(a).any()\n",
    "        with np.errstate(invalid='ignore'):\n",
    "            contains_nan = np.isnan(np.sum(a))\n",
    "    except TypeError:\n",
    "        # This can happen when attempting to sum things which are not\n",
    "        # numbers (e.g. as in the function `mode`). Try an alternative method:\n",
    "        try:\n",
    "            contains_nan = np.nan in set(a.ravel())\n",
    "        except TypeError:\n",
    "            # Don't know what to do. Fall back to omitting nan values and\n",
    "            # issue a warning.\n",
    "            contains_nan = False\n",
    "            nan_policy = 'omit'\n",
    "            warnings.warn(\"The input array could not be properly checked for nan \"\n",
    "                          \"values. nan values will be ignored.\", RuntimeWarning)\n",
    "\n",
    "    if contains_nan and nan_policy == 'raise':\n",
    "        raise ValueError(\"The input contains nan values\")\n",
    "\n",
    "return (contains_nan, nan_policy)\n",
    "\n",
    "BrunnerMunzelResult = namedtuple('BrunnerMunzelResult',\n",
    "                                 ('statistic', 'pvalue'))\n",
    "\n",
    "\n",
    "def brunnermunzel(x, y, alternative=\"two-sided\", distribution=\"t\",\n",
    "                  nan_policy='propagate'):\n",
    "    \"\"\"\n",
    "    Computes the Brunner-Munzel test on samples x and y\n",
    "    The Brunner-Munzel test is a nonparametric test of the null hypothesis that\n",
    "    when values are taken one by one from each group, the probabilities of\n",
    "    getting large values in both groups are equal.\n",
    "    Unlike the Wilcoxon-Mann-Whitney's U test, this does not require the\n",
    "    assumption of equivariance of two groups. Note that this does not assume\n",
    "    the distributions are same. This test works on two independent samples,\n",
    "    which may have different sizes.\n",
    "    Parameters\n",
    "    ----------\n",
    "    x, y : array_like\n",
    "        Array of samples, should be one-dimensional.\n",
    "    alternative :  'less', 'two-sided', or 'greater', optional\n",
    "        Whether to get the p-value for the one-sided hypothesis ('less'\n",
    "        or 'greater') or for the two-sided hypothesis ('two-sided').\n",
    "        Defaults value is 'two-sided' .\n",
    "    distribution: 't' or 'normal', optional\n",
    "        Whether to get the p-value by t-distribution or by standard normal\n",
    "        distribution.\n",
    "        Defaults value is 't' .\n",
    "    nan_policy : {'propagate', 'raise', 'omit'}, optional\n",
    "        Defines how to handle when input contains nan. 'propagate' returns nan,\n",
    "        'raise' throws an error, 'omit' performs the calculations ignoring nan\n",
    "        values. Default is 'propagate'.\n",
    "    Returns\n",
    "    -------\n",
    "    statistic : float\n",
    "        The Brunner-Munzer W statistic.\n",
    "    pvalue : float\n",
    "        p-value assuming an t distribution. One-sided or\n",
    "        two-sided, depending on the choice of `alternative` and `distribution`.\n",
    "    See Also\n",
    "    --------\n",
    "    mannwhitneyu : Mann-Whitney rank test on two samples.\n",
    "    Notes\n",
    "    -------\n",
    "    Brunner and Munzel recommended to estimate the p-value by t-distribution\n",
    "    when the size of data is 50 or less. If the size is lower than 10, it would\n",
    "    be better to use permuted Brunner Munzel test (see [2]_).\n",
    "    References\n",
    "    ----------\n",
    "    .. [1] Brunner, E. and Munzel, U. \"The nonparametric Benhrens-Fisher\n",
    "           problem: Asymptotic theory and a small-sample approximation\".\n",
    "           Biometrical Journal. Vol. 42(2000): 17-25.\n",
    "    .. [2] Neubert, K. and Brunner, E. \"A studentized permutation test for the\n",
    "           non-parametric Behrens-Fisher problem\". Computational Statistics and\n",
    "           Data Analysis. Vol. 51(2007): 5192-5204.\n",
    "    Examples\n",
    "    --------\n",
    "    >>> from scipy import stats\n",
    "    >>> x1 = [1,2,1,1,1,1,1,1,1,1,2,4,1,1]\n",
    "    >>> x2 = [3,3,4,3,1,2,3,1,1,5,4]\n",
    "    >>> w, p_value = stats.brunnermunzel(x1, x2)\n",
    "    >>> w\n",
    "    3.1374674823029505\n",
    "    >>> p_value\n",
    "    0.0057862086661515377\n",
    "    \"\"\"\n",
    "    x = np.asarray(x)\n",
    "    y = np.asarray(y)\n",
    "\n",
    "    # check both x and y\n",
    "    cnx, npx = _contains_nan(x, nan_policy)\n",
    "    cny, npy = _contains_nan(y, nan_policy)\n",
    "    contains_nan = cnx or cny\n",
    "    if npx == \"omit\" or npy == \"omit\":\n",
    "        nan_policy = \"omit\"\n",
    "\n",
    "    if contains_nan and nan_policy == \"propagate\":\n",
    "        return BrunnerMunzelResult(np.nan, np.nan)\n",
    "    elif contains_nan and nan_policy == \"omit\":\n",
    "        x = ma.masked_invalid(x)\n",
    "        y = ma.masked_invalid(y)\n",
    "        return mstats_basic.brunnermunzel(x, y, alternative, distribution)\n",
    "\n",
    "    nx = len(x)\n",
    "    ny = len(y)\n",
    "    if nx == 0 or ny == 0:\n",
    "        return BrunnerMunzelResult(np.nan, np.nan)\n",
    "    rankc = rankdata(np.concatenate((x, y)))\n",
    "    rankcx = rankc[0:nx]\n",
    "    rankcy = rankc[nx:nx+ny]\n",
    "    rankcx_mean = np.mean(rankcx)\n",
    "    rankcy_mean = np.mean(rankcy)\n",
    "    rankx = rankdata(x)\n",
    "    ranky = rankdata(y)\n",
    "    rankx_mean = np.mean(rankx)\n",
    "    ranky_mean = np.mean(ranky)\n",
    "\n",
    "    Sx = np.sum(np.power(rankcx - rankx - rankcx_mean + rankx_mean, 2.0))\n",
    "    Sx /= nx - 1\n",
    "    Sy = np.sum(np.power(rankcy - ranky - rankcy_mean + ranky_mean, 2.0))\n",
    "    Sy /= ny - 1\n",
    "\n",
    "    wbfn = nx * ny * (rankcy_mean - rankcx_mean)\n",
    "    wbfn /= (nx + ny) * np.sqrt(nx * Sx + ny * Sy)\n",
    "\n",
    "    if distribution == \"t\":\n",
    "        df_numer = np.power(nx * Sx + ny * Sy, 2.0)\n",
    "        df_denom = np.power(nx * Sx, 2.0) / (nx - 1)\n",
    "        df_denom += np.power(ny * Sy, 2.0) / (ny - 1)\n",
    "        df = df_numer / df_denom\n",
    "        p = distributions.t.cdf(wbfn, df)\n",
    "    elif distribution == \"normal\":\n",
    "        p = distributions.norm.cdf(wbfn)\n",
    "    else:\n",
    "        raise ValueError(\n",
    "            \"distribution should be 't' or 'normal'\")\n",
    "\n",
    "    if alternative == \"greater\":\n",
    "        p = p\n",
    "    elif alternative == \"less\":\n",
    "        p = 1 - p\n",
    "    elif alternative == \"two-sided\":\n",
    "        p = 2 * np.min([p, 1-p])\n",
    "    else:\n",
    "        raise ValueError(\n",
    "            \"alternative should be 'less', 'greater' or 'two-sided'\")\n",
    "\n",
    "return BrunnerMunzelResult(wbfn, p)"
   ]
  },
  {
   "cell_type": "code",
   "execution_count": 4,
   "metadata": {
    "collapsed": true
   },
   "outputs": [],
   "source": [
    "def normalized_cross_correlation(a, b):\n",
    "    \"\"\"\n",
    "    時系列信号a, bに対して、正規化相互相関 [-1, 1]を返す\n",
    "    \"\"\"\n",
    "    #https://stackoverflow.com/questions/53436231/normalized-cross-correlation-in-python\n",
    "    a = (a - np.mean(a)) / (np.std(a) * len(a))\n",
    "    b = (b - np.mean(b)) / (np.std(b))\n",
    "    c = np.correlate(a, b, 'full')\n",
    "    return c\n",
    "\n",
    "\n",
    "def unbiased_std(x):\n",
    "    \"\"\"\n",
    "    不偏標準偏差\n",
    "    \"\"\"\n",
    "    return np.std(x, ddof=1)"
   ]
  },
  {
   "cell_type": "markdown",
   "metadata": {},
   "source": [
    "# 検出力に基づくサンプルサイズ設計"
   ]
  },
  {
   "cell_type": "code",
   "execution_count": 6,
   "metadata": {},
   "outputs": [
    {
     "data": {
      "text/plain": [
       "1.9599639845400545"
      ]
     },
     "execution_count": 6,
     "metadata": {},
     "output_type": "execute_result"
    }
   ],
   "source": [
    "from scipy.stats import norm\n",
    "norm.isf(q=0.025, loc=0, scale=1)"
   ]
  },
  {
   "cell_type": "code",
   "execution_count": 8,
   "metadata": {},
   "outputs": [
    {
     "data": {
      "text/plain": [
       "10.507423061440623"
      ]
     },
     "execution_count": 8,
     "metadata": {},
     "output_type": "execute_result"
    }
   ],
   "source": [
    "\"\"\"\n",
    "一つの母平均の検定 母分散が既知の場合\n",
    "\"\"\"\n",
    "\n",
    "from scipy.stats import norm\n",
    "norm.isf(q=0.16, loc=0, scale=1)\n",
    "\n",
    "#H0:mu=mu0, H1:mu!=mu0の場合のサンプルサイズ\n",
    "def size_mean_mu_ne_mu0(delta, mu=None, mu0=None, sigma0=None, alpha=0.05, one_minus_beta=0.9):\n",
    "    #Eq. 3.15\n",
    "    if delta:\n",
    "        pass\n",
    "    \n",
    "    elif (delta==None) & (mu&mu0&sigma0):\n",
    "        delta = (mu-mu0)/sigma0\n",
    "        \n",
    "    else:\n",
    "        raise ValueError(\"Must set delta as a threshold or set mu, mu0, sigma0\")\n",
    "    \n",
    "    if alpha>0.5:\n",
    "        z_alpha_over_two =norm.isf(q=(1-alpha)/2, loc=0, scale=1)\n",
    "    else:\n",
    "        z_alpha_over_two =norm.isf(q=alpha/2, loc=0, scale=1)\n",
    "    \n",
    "    z_one_minus_beta = norm.isf(q=one_minus_beta, loc=0, scale=1)\n",
    "    n = ((z_alpha_over_two-z_one_minus_beta)/delta)**2\n",
    "    \n",
    "    return n\n",
    "\n",
    "print(size_mean_mu_ne_mu0(1.0, alpha=0.05, one_minus_beta=0.9))"
   ]
  },
  {
   "cell_type": "code",
   "execution_count": 20,
   "metadata": {},
   "outputs": [
    {
     "name": "stdout",
     "output_type": "stream",
     "text": [
      "0.885379140762\n",
      "0.912555560042\n"
     ]
    }
   ],
   "source": [
    "def statistical_power_mean_mu_ne_mu0(delta, n, mu=None, mu0=None, sigma0=None, alpha=0.05):\n",
    "    #Eq. 3.6\n",
    "    if delta:\n",
    "        pass\n",
    "    \n",
    "    elif (delta==None) & (mu&mu0&sigma0):\n",
    "        delta = (mu-mu0)/sigma0\n",
    "        \n",
    "    else:\n",
    "        raise ValueError(\"Must set delta as a threshold or set mu, mu0, sigma0\")\n",
    "    \n",
    "    if alpha>0.5:\n",
    "        z_alpha_over_two =norm.isf(q=(1-alpha)/2, loc=0, scale=1)\n",
    "    else:\n",
    "        z_alpha_over_two =norm.isf(q=alpha/2, loc=0, scale=1)\n",
    "    \n",
    "    one_minus_beta = norm.cdf(-z_alpha_over_two-np.sqrt(n)*delta, loc=0, scale=1\n",
    "                               ) + (1-norm.cdf(z_alpha_over_two-np.sqrt(n)*delta, loc=0, scale=1))\n",
    "    #same as the situation using survival function sf (sf=1-cdf)\n",
    "    #z_one_minus_beta = norm.cdf(-z_alpha_over_two-np.sqrt(n)*delta, loc=0, scale=1\n",
    "    #                           ) + norm.sf(z_alpha_over_two-np.sqrt(n)*delta, loc=0, scale=1))\n",
    "    \n",
    "    return one_minus_beta\n",
    "\n",
    "print(statistical_power_mean_mu_ne_mu0(delta=1.0, n=10))\n",
    "print(statistical_power_mean_mu_ne_mu0(delta=1.0, n=11))"
   ]
  },
  {
   "cell_type": "code",
   "execution_count": 34,
   "metadata": {},
   "outputs": [
    {
     "data": {
      "text/plain": [
       "<matplotlib.legend.Legend at 0x1d2be2eccf8>"
      ]
     },
     "execution_count": 34,
     "metadata": {},
     "output_type": "execute_result"
    },
    {
     "data": {
      "image/png": "[encoded data removed]",
      "text/plain": [
       "<matplotlib.figure.Figure at 0x1d2be2538d0>"
      ]
     },
     "metadata": {},
     "output_type": "display_data"
    }
   ],
   "source": [
    "n_list = [9, 16, 25]\n",
    "delta_list = np.arange(-1, 1, 0.01).tolist()\n",
    "\n",
    "#fig = plt.figure()\n",
    "for index, n in enumerate(n_list):\n",
    "    #ax = fig.add_subplot(len(n_list), 1, index+1)\n",
    "    #ax.plot(delta_list, [statistical_power_mean_mu_ne_mu0(delta=delta, n=n) for delta in delta_list], label=n)\n",
    "    plt.plot(delta_list, [statistical_power_mean_mu_ne_mu0(delta=delta, n=n) for delta in delta_list], label=n)\n",
    "    \n",
    "\n",
    "plt.title(\"statistical power curve\")\n",
    "plt.xlabel(r\"$\\Delta$\")\n",
    "plt.ylabel(r\"$1-\\beta$\")\n",
    "plt.grid()\n",
    "plt.legend()"
   ]
  },
  {
   "cell_type": "code",
   "execution_count": 14,
   "metadata": {},
   "outputs": [
    {
     "name": "stdout",
     "output_type": "stream",
     "text": [
      "43.2886952655\n"
     ]
    }
   ],
   "source": [
    "#H0:mu=mu0, H1:mu!=mu0の場合のサンプルサイズ\n",
    "def size_mean_mu_larger_mu0(delta, mu=None, mu0=None, sigma0=None, alpha=0.05, one_minus_beta=0.9):\n",
    "    #Eq. 3.17\n",
    "    if delta:\n",
    "        pass\n",
    "    \n",
    "    elif (delta==None) & (mu&mu0&sigma0):\n",
    "        delta = (mu-mu0)/sigma0\n",
    "        \n",
    "    else:\n",
    "        raise ValueError(\"Must set delta as a threshold or set mu, mu0, sigma0\")\n",
    "    \n",
    "    if alpha>0.5:\n",
    "        z_alpha_over_two =norm.isf(q=(1-alpha), loc=0, scale=1)\n",
    "    else:\n",
    "        z_alpha_over_two =norm.isf(q=alpha, loc=0, scale=1)\n",
    "    \n",
    "    z_one_minus_beta = norm.isf(q=one_minus_beta, loc=0, scale=1)\n",
    "    n = ((z_alpha_over_two-z_one_minus_beta)/delta)**2\n",
    "    \n",
    "    return n\n",
    "\n",
    "print(size_mean_mu_larger_mu0(0.5, alpha=0.05, one_minus_beta=0.95))"
   ]
  },
  {
   "cell_type": "code",
   "execution_count": 23,
   "metadata": {},
   "outputs": [
    {
     "name": "stdout",
     "output_type": "stream",
     "text": [
      "0.906374610853\n",
      "0.912555560042\n",
      "24.7302289281\n",
      "0.789485152687\n",
      "0.803764940015\n"
     ]
    }
   ],
   "source": [
    "def statistical_power_mean_mu_larger_mu0(delta, n, mu=None, mu0=None, sigma0=None, alpha=0.05):\n",
    "    #Eq. 3.9\n",
    "    if delta:\n",
    "        pass\n",
    "    \n",
    "    elif (delta==None) & (mu&mu0&sigma0):\n",
    "        delta = (mu-mu0)/sigma0\n",
    "        \n",
    "    else:\n",
    "        raise ValueError(\"Must set delta as a threshold or set mu, mu0, sigma0\")\n",
    "    \n",
    "    if alpha>0.5:\n",
    "        z_alpha_over_two =norm.isf(q=(1-alpha), loc=0, scale=1)\n",
    "    else:\n",
    "        z_alpha_over_two =norm.isf(q=alpha, loc=0, scale=1)\n",
    "    \n",
    "    one_minus_beta = (1-norm.cdf(z_alpha_over_two-np.sqrt(n)*delta, loc=0, scale=1))\n",
    "    #same as the situation using survival function sf (sf=1-cdf)\n",
    "    #z_one_minus_beta = norm.sf(z_alpha_over_two-np.sqrt(n)*delta, loc=0, scale=1))\n",
    "    \n",
    "    return one_minus_beta\n",
    "\n",
    "print(statistical_power_mean_mu_ne_mu0(delta=0.5, n=43))\n",
    "print(statistical_power_mean_mu_ne_mu0(delta=0.5, n=44))\n",
    "\n",
    "print(size_mean_mu_larger_mu0(-0.5, alpha=0.05, one_minus_beta=0.80))\n",
    "print(statistical_power_mean_mu_larger_mu0(delta=0.5, n=24))\n",
    "print(statistical_power_mean_mu_larger_mu0(delta=0.5, n=25))"
   ]
  },
  {
   "cell_type": "code",
   "execution_count": 24,
   "metadata": {},
   "outputs": [
    {
     "name": "stdout",
     "output_type": "stream",
     "text": [
      "24.7302289281\n",
      "0.789485152687\n",
      "0.803764940015\n"
     ]
    }
   ],
   "source": [
    "#H0:mu=mu0, H1:mu!=mu0の場合のサンプルサイズ\n",
    "def size_mean_mu_smaller_mu0(delta, mu=None, mu0=None, sigma0=None, alpha=0.05, one_minus_beta=0.9):\n",
    "    #Eq. 3.17\n",
    "    if delta:\n",
    "        pass\n",
    "    \n",
    "    elif (delta==None) & (mu&mu0&sigma0):\n",
    "        delta = (mu-mu0)/sigma0\n",
    "        \n",
    "    return size_mean_mu_larger_mu0(delta=-delta, mu=None, mu0=None, sigma0=None, alpha=alpha, one_minus_beta=one_minus_beta)\n",
    "\n",
    "\n",
    "def statistical_power_mean_mu_smaller_mu0(delta, n, mu=None, mu0=None, sigma0=None, alpha=0.05):\n",
    "    #Eq. 3.9\n",
    "    if delta:\n",
    "        pass\n",
    "    \n",
    "    elif (delta==None) & (mu&mu0&sigma0):\n",
    "        delta = (mu-mu0)/sigma0\n",
    "        \n",
    "    return statistical_power_mean_mu_larger_mu0(delta=-delta, n=n, mu=None, mu0=None, sigma0=None, alpha=alpha)\n",
    "\n",
    "print(size_mean_mu_smaller_mu0(-0.5, alpha=0.05, one_minus_beta=0.80))\n",
    "print(statistical_power_mean_mu_smaller_mu0(delta=-0.5, n=24))\n",
    "print(statistical_power_mean_mu_smaller_mu0(delta=-0.5, n=25))"
   ]
  },
  {
   "cell_type": "code",
   "execution_count": 70,
   "metadata": {},
   "outputs": [
    {
     "name": "stdout",
     "output_type": "stream",
     "text": [
      "11.7290680662\n",
      "0.905754094604\n",
      "0.883029595007\n"
     ]
    }
   ],
   "source": [
    "\"\"\"\n",
    "一つの母分散の検定\n",
    "\"\"\"\n",
    "from scipy.stats import chi2\n",
    "\n",
    "#H1:sigma^2!=sigma0^2\n",
    "def size_var_sigma_ne_sigma0(delta, sigma=None, sigma0=None, alpha=0.05, one_minus_beta=0.9):\n",
    "    #Eq. 4.18, 4.19\n",
    "    if delta:\n",
    "        pass\n",
    "    \n",
    "    elif (delta==None) & (sigma!=sigma0):\n",
    "        delta = sigma/sigma0\n",
    "        \n",
    "    else:\n",
    "        raise ValueError(\"Must set delta as a threshold or set sigma, sigma0\")\n",
    "    \n",
    "    if alpha>0.5:\n",
    "        z_alpha_over_two =norm.isf(q=(1-alpha)/2, loc=0, scale=1)\n",
    "    else:\n",
    "        z_alpha_over_two =norm.isf(q=alpha/2, loc=0, scale=1)\n",
    "    \n",
    "    z_one_minus_beta = norm.isf(q=one_minus_beta, loc=0, scale=1)\n",
    "    \n",
    "    n = (1/2)*((z_alpha_over_two-delta*z_one_minus_beta)/(delta-1))**2+(3/2)    \n",
    "    return n\n",
    "\n",
    "print(size_var_sigma_ne_sigma0(2.0, alpha=0.05, one_minus_beta=0.9))\n",
    "\n",
    "def statistical_power_var_sigma_ne_sigma0(delta, n, sigma=None, sigma0=None, alpha=0.05):\n",
    "    #Eq. 4.8\n",
    "    if delta:\n",
    "        pass\n",
    "    \n",
    "    elif (delta==None) & (sigma!=sigma0):\n",
    "        delta = sigma/sigma0\n",
    "        \n",
    "    else:\n",
    "        raise ValueError(\"Must set delta as a threshold or set sigma, sigma0\")\n",
    "        \n",
    "    one_minus_beta = chi2.cdf(chi2.isf(q=1-alpha/2, df=n-1, loc=0, scale=1)/(delta**2), df=n-1\n",
    "                               ) + (chi2.sf(chi2.isf(q=alpha/2, df=n-1, loc=0, scale=1)/(delta**2), df=n-1))\n",
    "    \n",
    "    return one_minus_beta\n",
    "\n",
    "print(statistical_power_var_sigma_ne_sigma0(delta=2.0, n=12))\n",
    "print(statistical_power_var_sigma_ne_sigma0(delta=2.0, n=11))"
   ]
  },
  {
   "cell_type": "code",
   "execution_count": 76,
   "metadata": {},
   "outputs": [
    {
     "name": "stdout",
     "output_type": "stream",
     "text": [
      "8.86509051393\n",
      "0.962603229043\n",
      "0.944669651744\n",
      "5.67053497738\n",
      "0.933068670866\n",
      "0.828570807248\n",
      "0.633357357009\n"
     ]
    }
   ],
   "source": [
    "#H1:sigma^2!=sigma0^2\n",
    "def size_var_sigma_larger_sigma0(delta, sigma=None, sigma0=None, alpha=0.05, one_minus_beta=0.9):\n",
    "    #Eq. 4.20\n",
    "    if delta:\n",
    "        pass\n",
    "    \n",
    "    elif (delta==None) & (sigma!=sigma0):\n",
    "        delta = sigma/sigma0\n",
    "        \n",
    "    else:\n",
    "        raise ValueError(\"Must set delta as a threshold or set sigma, sigma0\")\n",
    "    \n",
    "    z_alpha_over_two =norm.isf(q=alpha, loc=0, scale=1)\n",
    "    z_one_minus_beta = norm.isf(q=one_minus_beta, loc=0, scale=1)\n",
    "    \n",
    "    n = (1/2)*((z_alpha_over_two-delta*z_one_minus_beta)/(delta-1))**2+(3/2)    \n",
    "    return n\n",
    "\n",
    "print(size_var_sigma_larger_sigma0(5/2, alpha=0.05, one_minus_beta=0.95))\n",
    "\n",
    "def statistical_power_var_sigma_larger_sigma0(delta, n, sigma=None, sigma0=None, alpha=0.05):\n",
    "    #Eq. 4.8\n",
    "    if delta:\n",
    "        pass\n",
    "    \n",
    "    elif (delta==None) & (sigma!=sigma0):\n",
    "        delta = sigma/sigma0\n",
    "        \n",
    "    else:\n",
    "        raise ValueError(\"Must set delta as a threshold or set sigma, sigma0\")\n",
    "        \n",
    "    one_minus_beta = chi2.sf(chi2.isf(q=alpha, df=n-1, loc=0, scale=1)/(delta**2), df=n-1)\n",
    "    \n",
    "    return one_minus_beta\n",
    "\n",
    "print(statistical_power_var_sigma_larger_sigma0(delta=5/2, n=9))\n",
    "print(statistical_power_var_sigma_larger_sigma0(delta=5/2, n=8))\n",
    "\n",
    "\n",
    "def size_var_sigma_smaller_sigma0(delta, sigma=None, sigma0=None, alpha=0.05, one_minus_beta=0.9):\n",
    "    #Eq. 4.20\n",
    "    if delta:\n",
    "        pass\n",
    "    \n",
    "    elif (delta==None) & (sigma!=sigma0):\n",
    "        delta = sigma/sigma0\n",
    "        \n",
    "    return size_var_sigma_larger_sigma0(delta, alpha=alpha, one_minus_beta=one_minus_beta)\n",
    "\n",
    "\n",
    "def statistical_power_var_sigma_smaller_sigma0(delta, n, sigma=None, sigma0=None, alpha=0.05):\n",
    "    #Eq. 4.15\n",
    "    if delta:\n",
    "        pass\n",
    "    \n",
    "    elif (delta==None) & (sigma!=sigma0):\n",
    "        delta = sigma/sigma0\n",
    "        \n",
    "    else:\n",
    "        raise ValueError(\"Must set delta as a threshold or set sigma, sigma0\")\n",
    "        \n",
    "    one_minus_beta = chi2.cdf(chi2.isf(q=1-alpha, df=n-1, loc=0, scale=1)/(delta**2), df=n-1)\n",
    "    \n",
    "    return one_minus_beta\n",
    "\n",
    "\n",
    "\n",
    "print(size_var_sigma_smaller_sigma0(1/3, alpha=0.05, one_minus_beta=0.80))\n",
    "print(statistical_power_var_sigma_smaller_sigma0(delta=1/3, n=6))\n",
    "print(statistical_power_var_sigma_smaller_sigma0(delta=1/3, n=5))\n",
    "print(statistical_power_var_sigma_smaller_sigma0(delta=1/3, n=4))"
   ]
  },
  {
   "cell_type": "code",
   "execution_count": 81,
   "metadata": {},
   "outputs": [
    {
     "data": {
      "text/plain": [
       "2.3060041350333709"
      ]
     },
     "execution_count": 81,
     "metadata": {},
     "output_type": "execute_result"
    }
   ],
   "source": [
    "from scipy.stats import t\n",
    "t.isf(q=0.05/2, df=8)"
   ]
  },
  {
   "cell_type": "code",
   "execution_count": 87,
   "metadata": {},
   "outputs": [
    {
     "name": "stdout",
     "output_type": "stream",
     "text": [
      "12.4281524718\n",
      "0.353717034329\n",
      "0.910703285352\n",
      "0.882733919124\n"
     ]
    }
   ],
   "source": [
    "\"\"\"\n",
    "一つの母平均の検定 母分散が未知の場合\n",
    "\"\"\"\n",
    "\n",
    "from scipy.stats import t\n",
    "norm.isf(q=0.16, loc=0, scale=1)\n",
    "\n",
    "#H0:mu=mu0, H1:mu!=mu0の場合のサンプルサイズ\n",
    "\n",
    "def size_mean_Vunknown_mu_ne_mu0(delta, mu=None, mu0=None, sigma=None, alpha=0.05, one_minus_beta=0.9):\n",
    "    #Eq. 3.15\n",
    "    if delta:\n",
    "        pass\n",
    "    \n",
    "    elif (delta==None) & (mu&mu0&sigma):\n",
    "        delta = (mu-mu0)/sigma\n",
    "        \n",
    "    else:\n",
    "        raise ValueError(\"Must set delta as a threshold or set mu, mu0, sigma0\")\n",
    "    \n",
    "    z_alpha_over_two =norm.isf(q=alpha/2, loc=0, scale=1)\n",
    "    z_one_minus_beta = norm.isf(q=one_minus_beta, loc=0, scale=1)\n",
    "    n = ((z_alpha_over_two-z_one_minus_beta)/delta)**2+(z_alpha_over_two**2)/2\n",
    "    \n",
    "    return n\n",
    "\n",
    "print(size_mean_Vunknown_mu_ne_mu0(1.0, alpha=0.05, one_minus_beta=0.9))\n",
    "\n",
    "\n",
    "\n",
    "def statistical_power_mean_Vunknown_mu_ne_mu0(delta, n, mu=None, mu0=None, sigma=None, alpha=0.05):\n",
    "    #Eq. 5.10\n",
    "    phi = n-1\n",
    "    \n",
    "    if delta:\n",
    "        pass\n",
    "    \n",
    "    elif (delta==None) & (mu&mu0&sigma):\n",
    "        delta = (mu-mu0)/sigma\n",
    "        \n",
    "    else:\n",
    "        raise ValueError(\"Must set delta as a threshold or set mu, mu0, sigma0\")\n",
    "        \n",
    "    noncentral_lambda = np.sqrt(n)*delta\n",
    "    t_stat = t.isf(q=alpha/2, df=phi)\n",
    "    \n",
    "    def approx_noncentral_t_cdf(w, phi, noncentral_lambda):\n",
    "        #Eq. 5.11\n",
    "        return norm.cdf((w*(1-1/(4*phi))-noncentral_lambda)/np.sqrt(1+(w**2)/(2*phi)))\n",
    "\n",
    "    one_minus_beta = approx_noncentral_t_cdf(-t_stat, phi, noncentral_lambda)+(\n",
    "        1-approx_noncentral_t_cdf(t_stat, phi, noncentral_lambda))\n",
    "    \n",
    "    return one_minus_beta\n",
    "\n",
    "print(statistical_power_mean_Vunknown_mu_ne_mu0(delta=0.6, n=9, alpha=0.05))\n",
    "print(statistical_power_mean_Vunknown_mu_ne_mu0(delta=1.0, n=13, alpha=0.05))\n",
    "print(statistical_power_mean_Vunknown_mu_ne_mu0(delta=1.0, n=12, alpha=0.05))\n"
   ]
  },
  {
   "cell_type": "code",
   "execution_count": 84,
   "metadata": {},
   "outputs": [
    {
     "data": {
      "text/plain": [
       "<matplotlib.legend.Legend at 0x1d2be488518>"
      ]
     },
     "execution_count": 84,
     "metadata": {},
     "output_type": "execute_result"
    },
    {
     "data": {
      "image/png": "[encoded data removed]",
      "text/plain": [
       "<matplotlib.figure.Figure at 0x1d2be43fcc0>"
      ]
     },
     "metadata": {},
     "output_type": "display_data"
    }
   ],
   "source": [
    "n_list = [9, 16, 25]\n",
    "delta_list = np.arange(-1, 1, 0.01).tolist()\n",
    "\n",
    "#fig = plt.figure()\n",
    "for index, n in enumerate(n_list):\n",
    "    #ax = fig.add_subplot(len(n_list), 1, index+1)\n",
    "    #ax.plot(delta_list, [statistical_power_mean_mu_ne_mu0(delta=delta, n=n) for delta in delta_list], label=n)\n",
    "    plt.plot(delta_list, [statistical_power_mean_Vunknown_mu_ne_mu0(delta=delta, n=n) for delta in delta_list], label=\"n=\"+str(n))\n",
    "    \n",
    "\n",
    "plt.title(\"statistical power curve\")\n",
    "plt.xlabel(r\"$\\Delta$\")\n",
    "plt.ylabel(r\"$1-\\beta$\")\n",
    "plt.grid()\n",
    "plt.legend()"
   ]
  },
  {
   "cell_type": "code",
   "execution_count": 89,
   "metadata": {},
   "outputs": [
    {
     "name": "stdout",
     "output_type": "stream",
     "text": [
      "1.64485362695 -1.64485362695\n",
      "44.6414669926\n",
      "0.49948009108\n",
      "0.951245142707\n",
      "0.947270252822\n"
     ]
    }
   ],
   "source": [
    "#H0:mu=mu0, H1:mu!=mu0の場合のサンプルサイズ\n",
    "\n",
    "def size_mean_Vunknown_mu_larger_mu0(delta, mu=None, mu0=None, sigma=None, alpha=0.05, one_minus_beta=0.9):\n",
    "    #Eq. 5.17\n",
    "    if delta:\n",
    "        pass\n",
    "    \n",
    "    elif (delta==None) & (mu&mu0&sigma):\n",
    "        delta = (mu-mu0)/sigma\n",
    "        \n",
    "    else:\n",
    "        raise ValueError(\"Must set delta as a threshold or set mu, mu0, sigma0\")\n",
    "       \n",
    "    z_alpha =norm.isf(q=alpha, loc=0, scale=1)\n",
    "    z_one_minus_beta = norm.isf(q=one_minus_beta, loc=0, scale=1)\n",
    "    #print(z_alpha, z_one_minus_beta)\n",
    "    n = ((z_alpha-z_one_minus_beta)/delta)**2+(z_alpha**2)/2\n",
    "    \n",
    "    return n\n",
    "\n",
    "print(size_mean_Vunknown_mu_larger_mu0(0.5, alpha=0.05, one_minus_beta=0.95))\n",
    "\n",
    "def statistical_power_mean_Vunknown_mu_larger_mu0(delta, n, mu=None, mu0=None, sigma=None, alpha=0.05):\n",
    "    #Eq. 5.13\n",
    "    phi = n-1\n",
    "    \n",
    "    if delta:\n",
    "        pass\n",
    "    \n",
    "    elif (delta==None) & (mu&mu0&sigma):\n",
    "        delta = (mu-mu0)/sigma\n",
    "        \n",
    "    else:\n",
    "        raise ValueError(\"Must set delta as a threshold or set mu, mu0, sigma0\")\n",
    "        \n",
    "    noncentral_lambda = np.sqrt(n)*delta\n",
    "    t_stat = t.isf(q=alpha/2*2, df=phi)\n",
    "    \n",
    "    def approx_noncentral_t_cdf(w, phi, noncentral_lambda):\n",
    "        #Eq. 5.11\n",
    "        return norm.cdf((w*(1-1/(4*phi))-noncentral_lambda)/np.sqrt(1+(w**2)/(2*phi)))\n",
    "    \n",
    "    one_minus_beta = (1-approx_noncentral_t_cdf(t_stat, phi, noncentral_lambda))\n",
    "    \n",
    "    return one_minus_beta\n",
    "\n",
    "print(statistical_power_mean_Vunknown_mu_larger_mu0(delta=0.6, n=9, alpha=0.05))\n",
    "print(statistical_power_mean_Vunknown_mu_larger_mu0(delta=0.5, n=45, alpha=0.05))\n",
    "print(statistical_power_mean_Vunknown_mu_larger_mu0(delta=0.5, n=44, alpha=0.05))\n"
   ]
  },
  {
   "cell_type": "code",
   "execution_count": 90,
   "metadata": {},
   "outputs": [
    {
     "name": "stdout",
     "output_type": "stream",
     "text": [
      "1.64485362695 -0.841621233573\n",
      "26.0830006551\n",
      "0.49948009108\n",
      "0.811774620391\n",
      "0.797985856406\n"
     ]
    }
   ],
   "source": [
    "#H0:mu=mu0, H1:mu!=mu0の場合のサンプルサイズ\n",
    "\n",
    "def size_mean_Vunknown_mu_smaller_mu0(delta, mu=None, mu0=None, sigma=None, alpha=0.05, one_minus_beta=0.9):\n",
    "    #Eq. 5.18\n",
    "    if delta:\n",
    "        pass\n",
    "    \n",
    "    elif (delta==None) & (mu&mu0&sigma):\n",
    "        delta = (mu-mu0)/sigma\n",
    "        \n",
    "    else:\n",
    "        raise ValueError(\"Must set delta as a threshold or set mu, mu0, sigma0\")\n",
    "    \n",
    "    return size_mean_Vunknown_mu_larger_mu0(-delta, alpha=alpha, one_minus_beta=one_minus_beta)\n",
    "\n",
    "\n",
    "\n",
    "def statistical_power_mean_Vunknown_mu_smaller_mu0(delta, n, mu=None, mu0=None, sigma=None, alpha=0.05):\n",
    "    #Eq. 5.13\n",
    "    phi = n-1\n",
    "    \n",
    "    if delta:\n",
    "        pass\n",
    "    \n",
    "    elif (delta==None) & (mu&mu0&sigma):\n",
    "        delta = (mu-mu0)/sigma\n",
    "        \n",
    "    else:\n",
    "        raise ValueError(\"Must set delta as a threshold or set mu, mu0, sigma0\")\n",
    "        \n",
    "    noncentral_lambda = np.sqrt(n)*delta\n",
    "    t_stat = t.isf(q=alpha/2*2, df=phi)\n",
    "    \n",
    "    def approx_noncentral_t_cdf(w, phi, noncentral_lambda):\n",
    "        #Eq. 5.11\n",
    "        return norm.cdf((w*(1-1/(4*phi))-noncentral_lambda)/np.sqrt(1+(w**2)/(2*phi)))\n",
    "    \n",
    "    one_minus_beta = approx_noncentral_t_cdf(-t_stat, phi, noncentral_lambda)\n",
    "    \n",
    "    return one_minus_beta\n",
    "\n",
    "print(size_mean_Vunknown_mu_smaller_mu0(-0.5, alpha=0.05, one_minus_beta=0.80))\n",
    "print(statistical_power_mean_Vunknown_mu_smaller_mu0(delta=-0.6, n=9, alpha=0.05))\n",
    "print(statistical_power_mean_Vunknown_mu_smaller_mu0(delta=-0.5, n=27, alpha=0.05))\n",
    "print(statistical_power_mean_Vunknown_mu_smaller_mu0(delta=-0.5, n=26, alpha=0.05))\n"
   ]
  },
  {
   "cell_type": "code",
   "execution_count": null,
   "metadata": {},
   "outputs": [],
   "source": []
  },
  {
   "cell_type": "code",
   "execution_count": 91,
   "metadata": {},
   "outputs": [],
   "source": [
    "from scipy.stats import nct"
   ]
  },
  {
   "cell_type": "code",
   "execution_count": 96,
   "metadata": {},
   "outputs": [
    {
     "ename": "NameError",
     "evalue": "name 'x' is not defined",
     "output_type": "error",
     "traceback": [
      "\u001b[1;31m---------------------------------------------------------------------------\u001b[0m",
      "\u001b[1;31mNameError\u001b[0m                                 Traceback (most recent call last)",
      "\u001b[1;32m<ipython-input-96-0d86bbf8dba3>\u001b[0m in \u001b[0;36m<module>\u001b[1;34m()\u001b[0m\n\u001b[0;32m     11\u001b[0m \u001b[0mSpecifically\u001b[0m\u001b[1;33m,\u001b[0m \u001b[0mnct\u001b[0m\u001b[1;33m.\u001b[0m\u001b[0mpdf\u001b[0m\u001b[1;33m(\u001b[0m\u001b[0mx\u001b[0m\u001b[1;33m,\u001b[0m \u001b[0mdf\u001b[0m\u001b[1;33m,\u001b[0m \u001b[0mnc\u001b[0m\u001b[1;33m,\u001b[0m \u001b[0mloc\u001b[0m\u001b[1;33m,\u001b[0m \u001b[0mscale\u001b[0m\u001b[1;33m)\u001b[0m \u001b[1;32mis\u001b[0m \u001b[0midentically\u001b[0m \u001b[0mequivalent\u001b[0m \u001b[0mto\u001b[0m \u001b[0mnct\u001b[0m\u001b[1;33m.\u001b[0m\u001b[0mpdf\u001b[0m\u001b[1;33m(\u001b[0m\u001b[0my\u001b[0m\u001b[1;33m,\u001b[0m \u001b[0mdf\u001b[0m\u001b[1;33m,\u001b[0m \u001b[0mnc\u001b[0m\u001b[1;33m)\u001b[0m \u001b[1;33m/\u001b[0m \u001b[0mscale\u001b[0m \u001b[1;32mwith\u001b[0m \u001b[0my\u001b[0m \u001b[1;33m=\u001b[0m \u001b[1;33m(\u001b[0m\u001b[0mx\u001b[0m \u001b[1;33m-\u001b[0m \u001b[0mloc\u001b[0m\u001b[1;33m)\u001b[0m \u001b[1;33m/\u001b[0m \u001b[0mscale\u001b[0m\u001b[1;33m.\u001b[0m\u001b[1;33m\u001b[0m\u001b[0m\n\u001b[0;32m     12\u001b[0m \"\"\"\n\u001b[1;32m---> 13\u001b[1;33m \u001b[0mnct\u001b[0m\u001b[1;33m.\u001b[0m\u001b[0mcdf\u001b[0m\u001b[1;33m(\u001b[0m\u001b[0mx\u001b[0m\u001b[1;33m,\u001b[0m \u001b[0mdf\u001b[0m\u001b[1;33m,\u001b[0m \u001b[0mnc\u001b[0m\u001b[1;33m,\u001b[0m \u001b[0mloc\u001b[0m\u001b[1;33m=\u001b[0m\u001b[1;36m0\u001b[0m\u001b[1;33m,\u001b[0m \u001b[0mscale\u001b[0m\u001b[1;33m=\u001b[0m\u001b[1;36m1\u001b[0m\u001b[1;33m)\u001b[0m\u001b[1;33m\u001b[0m\u001b[0m\n\u001b[0m",
      "\u001b[1;31mNameError\u001b[0m: name 'x' is not defined"
     ]
    }
   ],
   "source": [
    "def approx_noncentral_t_cdf(w, #statistic value\n",
    "                            phi, #degree of freedom\n",
    "                            noncentral_lambda #noncentral parameter \n",
    "                           ):\n",
    "    #Eq. 5.11\n",
    "    return norm.cdf((w*(1-1/(4*phi))-noncentral_lambda)/np.sqrt(1+(w**2)/(2*phi)))\n",
    "\n",
    "\"\"\"\n",
    "The probability density above is defined in the “standardized” form. \n",
    "To shift and/or scale the distribution use the loc and scale parameters. \n",
    "Specifically, nct.pdf(x, df, nc, loc, scale) is identically equivalent to nct.pdf(y, df, nc) / scale with y = (x - loc) / scale.\n",
    "\"\"\"\n",
    "nct.cdf(x, df, nc, loc=0, scale=1)"
   ]
  },
  {
   "cell_type": "code",
   "execution_count": 109,
   "metadata": {},
   "outputs": [
    {
     "name": "stdout",
     "output_type": "stream",
     "text": [
      "Noncentral Student t distribution\n",
      "exact value\t\t 0.500235318212\n",
      "approximate value\t 0.499321727568\n"
     ]
    }
   ],
   "source": [
    "print(\"Noncentral Student t distribution\")\n",
    "#p. 73 ex5.5\n",
    "print(\"exact value\\t\\t\", nct.cdf(x=-1.860, df=9-1, nc=-1.8))\n",
    "#nct.cdf(x, df, nc)=approx_noncentral_t_cdf(w=x, phi=df, noncentral_lambda=nc)\n",
    "print(\"approximate value\\t\", approx_noncentral_t_cdf(w=-1.860, phi=9-1, noncentral_lambda=-1.8))"
   ]
  },
  {
   "cell_type": "code",
   "execution_count": 105,
   "metadata": {},
   "outputs": [
    {
     "data": {
      "text/plain": [
       "0.49932172756838739"
      ]
     },
     "execution_count": 105,
     "metadata": {},
     "output_type": "execute_result"
    }
   ],
   "source": [
    "approx_noncentral_t_cdf(w=-1.860, phi=9-1, noncentral_lambda=-1.8)"
   ]
  },
  {
   "cell_type": "code",
   "execution_count": 114,
   "metadata": {},
   "outputs": [],
   "source": [
    "from scipy.stats import f"
   ]
  },
  {
   "cell_type": "code",
   "execution_count": 118,
   "metadata": {},
   "outputs": [
    {
     "name": "stdout",
     "output_type": "stream",
     "text": [
      "13.5149647618\n",
      "0.888691493473\n",
      "0.911038181326\n",
      "22.8698244304\n",
      "0.888497779214\n",
      "0.901948707189\n"
     ]
    }
   ],
   "source": [
    "\"\"\"\n",
    "2つの母分散の比の検定\n",
    "\"\"\"\n",
    "\n",
    "def size_var_ratio_sigma1_ne_sigma2(delta, sigma1=None, sigma2=None, alpha=0.05, one_minus_beta=0.9):\n",
    "    #Eq. 6.24, 6.25\n",
    "    if delta:\n",
    "        pass\n",
    "    \n",
    "    elif (delta==None) & (sigma1!=sigma2):\n",
    "        delta = sigma1/sigma2\n",
    "        \n",
    "    else:\n",
    "        raise ValueError(\"Must set delta as a threshold or set sigma1, sigma2\")\n",
    "    \n",
    "    z_alpha_over_two =norm.isf(q=alpha/2, loc=0, scale=1)\n",
    "    z_one_minus_beta = norm.isf(q=one_minus_beta, loc=0, scale=1)\n",
    "    \n",
    "    n = 1+((z_alpha_over_two-z_one_minus_beta)/np.log(delta))**2\n",
    "    return n\n",
    "\n",
    "\n",
    "def statistical_power_var_ratio_sigma1_ne_sigma2(delta, n, sigma1=None, sigma2=None, alpha=0.05):\n",
    "    #Eq. 6.14\n",
    "    if delta:\n",
    "        pass\n",
    "    \n",
    "    elif (delta==None) & (sigma1!=sigma2):\n",
    "        delta = sigma1/sigma2\n",
    "        \n",
    "    else:\n",
    "        raise ValueError(\"Must set delta as a threshold or set sigma1, sigma2\")\n",
    "        \n",
    "    n1=n\n",
    "    n2=n\n",
    "    one_minus_beta = f.cdf(f.isf(q=1-alpha/2, dfn=n1-1, dfd=n2-1, loc=0, scale=1)/(delta**2), dfn=n1-1, dfd=n2-1\n",
    "                               ) + (f.sf(f.isf(q=alpha/2, dfn=n1-1, dfd=n2-1,  loc=0, scale=1)/(delta**2), dfn=n1-1, dfd=n2-1))\n",
    "    \n",
    "    return one_minus_beta\n",
    "\n",
    "\n",
    "print(size_var_ratio_sigma1_ne_sigma2(delta=5/2, sigma1=None, sigma2=None, alpha=0.05, one_minus_beta=0.9))\n",
    "print(statistical_power_var_ratio_sigma1_ne_sigma2(delta=5/2, n=14))\n",
    "print(statistical_power_var_ratio_sigma1_ne_sigma2(delta=5/2, n=15))\n",
    "print(size_var_ratio_sigma1_ne_sigma2(delta=1/2, sigma1=None, sigma2=None, alpha=0.05, one_minus_beta=0.9))\n",
    "print(statistical_power_var_ratio_sigma1_ne_sigma2(delta=1/2, n=23))\n",
    "print(statistical_power_var_ratio_sigma1_ne_sigma2(delta=1/2, n=24))"
   ]
  },
  {
   "cell_type": "code",
   "execution_count": 124,
   "metadata": {},
   "outputs": [
    {
     "name": "stdout",
     "output_type": "stream",
     "text": [
      "13.868182846\n",
      "0.780698491756\n",
      "0.808323144763\n"
     ]
    }
   ],
   "source": [
    "\"\"\"\n",
    "2つの母分散の日の検定\n",
    "\"\"\"\n",
    "\n",
    "def size_var_ratio_sigma1_larger_sigma2(delta, sigma1=None, sigma2=None, alpha=0.05, one_minus_beta=0.9):\n",
    "    #Eq. 6.26\n",
    "    if delta:\n",
    "        pass\n",
    "    \n",
    "    elif (delta==None) & (sigma1!=sigma2):\n",
    "        delta = sigma1/sigma2\n",
    "        \n",
    "    else:\n",
    "        raise ValueError(\"Must set delta as a threshold or set sigma1, sigma2\")\n",
    "    \n",
    "    z_alpha =norm.isf(q=alpha, loc=0, scale=1)\n",
    "    z_one_minus_beta = norm.isf(q=one_minus_beta, loc=0, scale=1)\n",
    "    \n",
    "    n = 1+((z_alpha-z_one_minus_beta)/np.log(delta))**2\n",
    "    return n\n",
    "\n",
    "\n",
    "def statistical_power_var_ratio_sigma1_larger_sigma2(delta, n, sigma1=None, sigma2=None, alpha=0.05):\n",
    "    #Eq. 6.26\n",
    "    if delta:\n",
    "        pass\n",
    "    \n",
    "    elif (delta==None) & (sigma1!=sigma2):\n",
    "        delta = sigma1/sigma2\n",
    "        \n",
    "    else:\n",
    "        raise ValueError(\"Must set delta as a threshold or set sigma1, sigma2\")\n",
    "        \n",
    "    n1=n\n",
    "    n2=n\n",
    "    one_minus_beta = f.sf(f.isf(q=alpha, dfn=n1-1, dfd=n2-1, loc=0, scale=1)/(delta**2), dfn=n1-1, dfd=n2-1)\n",
    "    \n",
    "    return one_minus_beta\n",
    "\n",
    "\n",
    "print(size_var_ratio_sigma1_larger_sigma2(delta=2.0, sigma1=None, sigma2=None, alpha=0.05, one_minus_beta=0.8))\n",
    "print(statistical_power_var_ratio_sigma1_larger_sigma2(delta=2.0, n=14))\n",
    "print(statistical_power_var_ratio_sigma1_larger_sigma2(delta=2.0, n=15))\n"
   ]
  },
  {
   "cell_type": "code",
   "execution_count": 127,
   "metadata": {},
   "outputs": [
    {
     "name": "stdout",
     "output_type": "stream",
     "text": [
      "9.96655464958\n",
      "0.931489428538\n",
      "0.952126037485\n"
     ]
    }
   ],
   "source": [
    "\"\"\"\n",
    "2つの母分散の日の検定\n",
    "\"\"\"\n",
    "\n",
    "def size_var_ratio_sigma1_smaller_sigma2(delta, sigma1=None, sigma2=None, alpha=0.05, one_minus_beta=0.9):\n",
    "    #Eq. 6.26\n",
    "    if delta:\n",
    "        pass\n",
    "    \n",
    "    elif (delta==None) & (sigma1!=sigma2):\n",
    "        delta = sigma1/sigma2\n",
    "        \n",
    "    else:\n",
    "        raise ValueError(\"Must set delta as a threshold or set sigma1, sigma2\")\n",
    "    \n",
    "    return size_var_ratio_sigma1_larger_sigma2(delta=delta, sigma1=None, sigma2=None, alpha=alpha, one_minus_beta=one_minus_beta)\n",
    "\n",
    "\n",
    "def statistical_power_var_ratio_sigma1_smaller_sigma2(delta, n, sigma1=None, sigma2=None, alpha=0.05):\n",
    "    #Eq. 6.21\n",
    "    if delta:\n",
    "        pass\n",
    "    \n",
    "    elif (delta==None) & (sigma1!=sigma2):\n",
    "        delta = sigma1/sigma2\n",
    "        \n",
    "    else:\n",
    "        raise ValueError(\"Must set delta as a threshold or set sigma1, sigma2\")\n",
    "        \n",
    "    n1=n\n",
    "    n2=n\n",
    "    one_minus_beta = f.cdf(f.isf(q=1-alpha, dfn=n1-1, dfd=n2-1, loc=0, scale=1)/(delta**2), dfn=n1-1, dfd=n2-1)\n",
    "    \n",
    "    return one_minus_beta\n",
    "\n",
    "\n",
    "print(size_var_ratio_sigma1_smaller_sigma2(delta=1/3, sigma1=None, sigma2=None, alpha=0.05, one_minus_beta=0.95))\n",
    "print(statistical_power_var_ratio_sigma1_smaller_sigma2(delta=1/3, n=10))\n",
    "print(statistical_power_var_ratio_sigma1_smaller_sigma2(delta=1/3, n=11))\n"
   ]
  },
  {
   "cell_type": "code",
   "execution_count": 132,
   "metadata": {},
   "outputs": [
    {
     "name": "stdout",
     "output_type": "stream",
     "text": [
      "21.9752108281\n",
      "0.899709156372\n",
      "0.885246957684\n"
     ]
    }
   ],
   "source": [
    "\"\"\"\n",
    "２つの母平均の差の検定\n",
    "\"\"\"\n",
    "#H0:mu=mu0, H1:mu!=mu0の場合のサンプルサイズ\n",
    "\n",
    "def size_mean_diff_mu1_ne_mu2(delta, mu1=None, mu2=None, sigma=None, alpha=0.05, one_minus_beta=0.9):\n",
    "    #Eq. 7.17\n",
    "    if delta:\n",
    "        pass\n",
    "    \n",
    "    elif (delta==None) & (mu1&mu2&sigma):\n",
    "        delta = (mu1-mu2)/sigma\n",
    "        \n",
    "    else:\n",
    "        raise ValueError(\"Must set delta as a threshold or set mu1, mu2, sigma0\")\n",
    "    \n",
    "    z_alpha_over_two =norm.isf(q=alpha/2, loc=0, scale=1)\n",
    "    z_one_minus_beta = norm.isf(q=one_minus_beta, loc=0, scale=1)\n",
    "    n = 2*((z_alpha_over_two-z_one_minus_beta)/delta)**2+(z_alpha_over_two**2)/4\n",
    "    \n",
    "    return n\n",
    "\n",
    "\n",
    "\n",
    "\n",
    "def statistical_power_mean_diff_mu1_ne_mu2(delta, n, n1=None, n2=None, mu1=None, mu2=None, sigma=None, alpha=0.05):\n",
    "    #Eq. 7.11\n",
    "    if n1 and n2:\n",
    "        pass\n",
    "    elif n:\n",
    "        n1=n\n",
    "        n2=n\n",
    "    else:\n",
    "        raise ValueError(\"Must set n or n1 and n2\")\n",
    "    \n",
    "    phi = (n1-1)+(n2-1)\n",
    "    \n",
    "    if delta:\n",
    "        pass\n",
    "    \n",
    "    elif (delta==None) & (mu1&mu2&sigma):\n",
    "        delta = (mu1-mu2)/sigma\n",
    "        \n",
    "    else:\n",
    "        raise ValueError(\"Must set delta as a threshold or set mu1, mu2, sigma0\")\n",
    "        \n",
    "    noncentral_lambda = np.sqrt((n1*n2)/(n1+n2))*delta\n",
    "    t_stat = t.isf(q=alpha/2, df=phi)\n",
    "    \n",
    "    def approx_noncentral_t_cdf(w, phi, noncentral_lambda):\n",
    "        #Eq. 5.11\n",
    "        return norm.cdf((w*(1-1/(4*phi))-noncentral_lambda)/np.sqrt(1+(w**2)/(2*phi)))\n",
    "\n",
    "    one_minus_beta = approx_noncentral_t_cdf(-t_stat, phi, noncentral_lambda)+(\n",
    "        1-approx_noncentral_t_cdf(t_stat, phi, noncentral_lambda))\n",
    "    \n",
    "    return one_minus_beta\n",
    "\n",
    "\n",
    "print(size_mean_diff_mu1_ne_mu2(1.0, alpha=0.05, one_minus_beta=0.9))\n",
    "print(statistical_power_mean_diff_mu1_ne_mu2(delta=1.0, n=22, alpha=0.05))\n",
    "print(statistical_power_mean_diff_mu1_ne_mu2(delta=1.0, n=21, alpha=0.05))\n"
   ]
  },
  {
   "cell_type": "code",
   "execution_count": 133,
   "metadata": {},
   "outputs": [
    {
     "name": "stdout",
     "output_type": "stream",
     "text": [
      "10.2960959225\n",
      "0.960003131291\n",
      "0.942887069568\n"
     ]
    }
   ],
   "source": [
    "\"\"\"\n",
    "２つの母平均の差の検定\n",
    "\"\"\"\n",
    "def size_mean_diff_mu1_larger_mu2(delta, mu1=None, mu2=None, sigma=None, alpha=0.05, one_minus_beta=0.9):\n",
    "    #Eq. 7.17\n",
    "    if delta:\n",
    "        pass\n",
    "    \n",
    "    elif (delta==None) & (mu1&mu2&sigma):\n",
    "        delta = (mu1-mu2)/sigma\n",
    "        \n",
    "    else:\n",
    "        raise ValueError(\"Must set delta as a threshold or set mu1, mu2, sigma0\")\n",
    "    \n",
    "    z_alpha =norm.isf(q=alpha, loc=0, scale=1)\n",
    "    z_one_minus_beta = norm.isf(q=one_minus_beta, loc=0, scale=1)\n",
    "    n = 2*((z_alpha-z_one_minus_beta)/delta)**2+(z_alpha**2)/4\n",
    "    \n",
    "    return n\n",
    "\n",
    "\n",
    "\n",
    "\n",
    "def statistical_power_mean_diff_mu1_larger_mu2(delta, n, n1=None, n2=None, mu1=None, mu2=None, sigma=None, alpha=0.05):\n",
    "    #Eq. 7.14\n",
    "    if n1 and n2:\n",
    "        pass\n",
    "    elif n:\n",
    "        n1=n\n",
    "        n2=n\n",
    "    else:\n",
    "        raise ValueError(\"Must set n or n1 and n2\")\n",
    "    \n",
    "    phi = (n1-1)+(n2-1)\n",
    "    \n",
    "    if delta:\n",
    "        pass\n",
    "    \n",
    "    elif (delta==None) & (mu1&mu2&sigma):\n",
    "        delta = (mu1-mu2)/sigma\n",
    "        \n",
    "    else:\n",
    "        raise ValueError(\"Must set delta as a threshold or set mu1, mu2, sigma0\")\n",
    "        \n",
    "    noncentral_lambda = np.sqrt((n1*n2)/(n1+n2))*delta\n",
    "    t_stat = t.isf(q=alpha, df=phi)\n",
    "    \n",
    "    def approx_noncentral_t_cdf(w, phi, noncentral_lambda):\n",
    "        #Eq. 5.11\n",
    "        return norm.cdf((w*(1-1/(4*phi))-noncentral_lambda)/np.sqrt(1+(w**2)/(2*phi)))\n",
    "\n",
    "    one_minus_beta = (1-approx_noncentral_t_cdf(t_stat, phi, noncentral_lambda))\n",
    "    \n",
    "    return one_minus_beta\n",
    "\n",
    "\n",
    "print(size_mean_diff_mu1_larger_mu2(1.5, alpha=0.05, one_minus_beta=0.95))\n",
    "print(statistical_power_mean_diff_mu1_larger_mu2(delta=1.5, n=11, alpha=0.05))\n",
    "print(statistical_power_mean_diff_mu1_larger_mu2(delta=1.5, n=10, alpha=0.05))"
   ]
  },
  {
   "cell_type": "code",
   "execution_count": 135,
   "metadata": {},
   "outputs": [
    {
     "name": "stdout",
     "output_type": "stream",
     "text": [
      "9.263270908\n",
      "0.825114833007\n",
      "0.785294914835\n"
     ]
    }
   ],
   "source": [
    "\"\"\"\n",
    "２つの母平均の差の検定\n",
    "\"\"\"\n",
    "def size_mean_diff_mu1_smaller_mu2(delta, mu1=None, mu2=None, sigma=None, alpha=0.05, one_minus_beta=0.9):\n",
    "    #Eq. 7.19\n",
    "    if delta:\n",
    "        pass\n",
    "    \n",
    "    elif (delta==None) & (mu1&mu2&sigma):\n",
    "        delta = (mu1-mu2)/sigma\n",
    "        \n",
    "    else:\n",
    "        raise ValueError(\"Must set delta as a threshold or set mu1, mu2, sigma0\")\n",
    "       \n",
    "    return size_mean_diff_mu1_larger_mu2(delta=delta, mu1=None, mu2=None, sigma=None, alpha=alpha, one_minus_beta=one_minus_beta)\n",
    "\n",
    "\n",
    "\n",
    "\n",
    "def statistical_power_mean_diff_mu1_smaller_mu2(delta, n, n1=None, n2=None, mu1=None, mu2=None, sigma=None, alpha=0.05):\n",
    "    #Eq. 7.16\n",
    "    if n1 and n2:\n",
    "        pass\n",
    "    elif n:\n",
    "        n1=n\n",
    "        n2=n\n",
    "    else:\n",
    "        raise ValueError(\"Must set n or n1 and n2\")\n",
    "    \n",
    "    phi = (n1-1)+(n2-1)\n",
    "    \n",
    "    if delta:\n",
    "        pass\n",
    "    \n",
    "    elif (delta==None) & (mu1&mu2&sigma):\n",
    "        delta = (mu1-mu2)/sigma\n",
    "        \n",
    "    else:\n",
    "        raise ValueError(\"Must set delta as a threshold or set mu1, mu2, sigma0\")\n",
    "        \n",
    "    noncentral_lambda = np.sqrt((n1*n2)/(n1+n2))*delta\n",
    "    t_stat = t.isf(q=alpha, df=phi)\n",
    "    \n",
    "    def approx_noncentral_t_cdf(w, phi, noncentral_lambda):\n",
    "        #Eq. 5.11\n",
    "        return norm.cdf((w*(1-1/(4*phi))-noncentral_lambda)/np.sqrt(1+(w**2)/(2*phi)))\n",
    "\n",
    "    one_minus_beta = approx_noncentral_t_cdf(-t_stat, phi, noncentral_lambda)\n",
    "    \n",
    "    return one_minus_beta\n",
    "\n",
    "\n",
    "print(size_mean_diff_mu1_smaller_mu2(-1.2, alpha=0.05, one_minus_beta=0.80))\n",
    "print(statistical_power_mean_diff_mu1_smaller_mu2(delta=-1.2, n=10, alpha=0.05))\n",
    "print(statistical_power_mean_diff_mu1_smaller_mu2(delta=-1.2, n=9, alpha=0.05))"
   ]
  },
  {
   "cell_type": "code",
   "execution_count": 139,
   "metadata": {},
   "outputs": [
    {
     "name": "stdout",
     "output_type": "stream",
     "text": [
      "0.707655682635\n"
     ]
    }
   ],
   "source": [
    "\"\"\"\n",
    "母不良率の\n",
    "\"\"\"\n",
    "\n",
    "def size_ratio():\n",
    "    #Eq. 11.8, Ex 11.2\n",
    "    pass\n",
    "\n",
    "def statistical_power_ratio(n, P, P0, alpha=0.05):\n",
    "    #Eq. 11.5-7\n",
    "    if (n*P<5) | (n*(1-P)<5) | (n*P0<5) | (n*(1-P0)<5):\n",
    "        raise ValueError(\"Cannot use norm dist approx\")\n",
    "        \n",
    "    A = np.sqrt((P0*(1-P0))/(P*(1-P)))\n",
    "    B = (P-P0)/np.sqrt((P*(1-P))/n)\n",
    "    z_alpha_over_two =norm.isf(q=alpha/2, loc=0, scale=1)\n",
    "    \n",
    "    one_minus_beta = norm.cdf(-z_alpha_over_two*A-B, loc=0, scale=1) + norm.sf(z_alpha_over_two*A-B, loc=0, scale=1)\n",
    "    return one_minus_beta\n",
    "\n",
    "print(statistical_power_ratio(n=200, P=0.05, P0=0.10))"
   ]
  },
  {
   "cell_type": "code",
   "execution_count": 142,
   "metadata": {},
   "outputs": [],
   "source": [
    "z_one_minus_beta = norm.isf(q=0.90, loc=0, scale=1)"
   ]
  },
  {
   "cell_type": "markdown",
   "metadata": {},
   "source": [
    "# 区間推定に基づくサンプルサイズ設計"
   ]
  },
  {
   "cell_type": "code",
   "execution_count": 143,
   "metadata": {},
   "outputs": [
    {
     "name": "stdout",
     "output_type": "stream",
     "text": [
      "6.82926012568\n"
     ]
    }
   ],
   "source": [
    "\"\"\"\n",
    "一つの母平均の区間推定 母分散既知\n",
    "\"\"\"\n",
    "\n",
    "def size_mean_interval(alpha, delta, sigma0_2):\n",
    "    #Eq. 12.6\n",
    "    z_alpha_over_two = norm.isf(q=alpha/2, loc=0, scale=1)\n",
    "    n = (4*(z_alpha_over_two**2)*sigma0_2)/(delta**2)\n",
    "    return n\n",
    "\n",
    "print(size_mean_interval(alpha=0.05, delta=3.0, sigma0_2=2.0**2))"
   ]
  },
  {
   "cell_type": "code",
   "execution_count": 144,
   "metadata": {},
   "outputs": [
    {
     "name": "stdout",
     "output_type": "stream",
     "text": [
      "28.2523095777\n"
     ]
    }
   ],
   "source": [
    "\"\"\"\n",
    "一つの母分散の区間推定 \n",
    "\"\"\"\n",
    "\n",
    "def size_var_interval(alpha, delta):\n",
    "    # Eq. 12.12\n",
    "    z_alpha_over_two = norm.isf(q=alpha/2, loc=0, scale=1)\n",
    "    n = (1/2)*(((1+np.sqrt(delta))*z_alpha_over_two/(np.sqrt(delta)-1))**2)+(3/2)\n",
    "    return n\n",
    "\n",
    "print(size_var_interval(alpha=0.05, delta=3.0))"
   ]
  },
  {
   "cell_type": "code",
   "execution_count": 145,
   "metadata": {},
   "outputs": [],
   "source": [
    "from scipy.special import gamma"
   ]
  },
  {
   "cell_type": "code",
   "execution_count": null,
   "metadata": {},
   "outputs": [],
   "source": [
    "\"\"\"\n",
    "一つの母平均の区間推定 母分散未知\n",
    "\"\"\"\n",
    "\n",
    "def size_mean_interval_Vunknown(alpha, delta):\n",
    "    pass"
   ]
  },
  {
   "cell_type": "markdown",
   "metadata": {},
   "source": [
    "# フィッティング"
   ]
  },
  {
   "cell_type": "code",
   "execution_count": 154,
   "metadata": {},
   "outputs": [
    {
     "data": {
      "text/plain": [
       "<matplotlib.legend.Legend at 0x1d2bcfaeda0>"
      ]
     },
     "execution_count": 154,
     "metadata": {},
     "output_type": "execute_result"
    },
    {
     "data": {
      "image/png": "[encoded data removed]",
      "text/plain": [
       "<matplotlib.figure.Figure at 0x1d2bfb686d8>"
      ]
     },
     "metadata": {},
     "output_type": "display_data"
    }
   ],
   "source": [
    "from scipy.optimize import curve_fit\n",
    "from scipy import stats\n",
    "\n",
    "\"\"\"\n",
    "def func(x, a, b):\n",
    "    return a * (1-np.exp(b+x))\n",
    "xd = np.linspace(0, 10, 100)\n",
    "yd = 1 * np.random.randn(xd.size) + func(x, 1, -4)\n",
    "\"\"\"\n",
    "\n",
    "\n",
    "xd = np.array([0.5, 0.387, 0.24, 0.136, 0.04, 0.011])\n",
    "yd = np.array([1.255, 1.25, 1.189, 1.124, 0.783, 0.402])\n",
    "\n",
    "##\n",
    "# for fitting\n",
    "##\n",
    "\n",
    "# this is the function we want to fit to our data\n",
    "def func(x, a, b):\n",
    "    \"\"\"nonlinear function in a and b to fit to data\"\"\"\n",
    "    return a * x / (b + x)\n",
    "\n",
    "def transient(x, A, B, tau):\n",
    "    return 1-A*np.exp(-x/tau)+B\n",
    "\n",
    "def sigmoid(x, a, b):\n",
    "    return 1/(1+np.exp(-a*(x-b)))\n",
    "\n",
    "def transient_inverse(x, A, B, tau):\n",
    "    return tau * np.log(A/(1+B+x))\n",
    "\n",
    "def logit(x, a, b):\n",
    "    return (1/a) * np.log(x/(1-x)) + b\n",
    "\n",
    "\n",
    "def statband(x, xd, yd, f_vars, conf=0.95, kind=\"confidence\"):\n",
    "    \"\"\"\n",
    "    Code adapted from Rodrigo Nemmen's post:\n",
    "    http://astropython.blogspot.com.ar/2011/12/calculating-prediction-band-\n",
    "    of-linear.html\n",
    "\n",
    "    Calculates the prediction band of the regression model at the\n",
    "    desired confidence level.\n",
    "\n",
    "    Clarification of the difference between confidence and prediction bands:\n",
    "\n",
    "    \"The prediction bands are further from the best-fit line than the\n",
    "    confidence bands, a lot further if you have many data points. The 95%\n",
    "    prediction band is the area in which you expect 95% of all data points\n",
    "    to fall. In contrast, the 95% confidence band is the area that has a\n",
    "    95% chance of containing the true regression line.\"\n",
    "    (from http://www.graphpad.com/guides/prism/6/curve-fitting/index.htm?\n",
    "    reg_graphing_tips_linear_regressio.htm)\n",
    "\n",
    "    Arguments:\n",
    "    - x: array with x values to calculate the confidence band.\n",
    "    - xd, yd: data arrays.\n",
    "    - a, b, c: linear fit parameters.\n",
    "    - conf: desired confidence level, by default 0.95 (2 sigma)\n",
    "\n",
    "    References:\n",
    "    1. http://www.JerryDallal.com/LHSP/slr.htm, Introduction to Simple Linear\n",
    "    Regression, Gerard E. Dallal, Ph.D.\n",
    "    \"\"\"\n",
    "\n",
    "    alpha = 1. - conf    # Significance\n",
    "    N = xd.size          # data sample size\n",
    "    var_n = len(f_vars)  # Number of variables used by the fitted function.\n",
    "\n",
    "    # Quantile of Student's t distribution for p=(1 - alpha/2)\n",
    "    q = stats.t.ppf(1. - alpha / 2., N - var_n)\n",
    "\n",
    "    # Std. deviation of an individual measurement (Bevington, eq. 6.15)\n",
    "    se = np.sqrt(1. / (N - var_n) * np.sum((yd - func(xd, *f_vars)) ** 2))\n",
    "\n",
    "    # Auxiliary definitions\n",
    "    sx = (x - xd.mean()) ** 2\n",
    "    sxd = np.sum((xd - xd.mean()) ** 2)\n",
    "\n",
    "    # Predicted values (best-fit model)\n",
    "    yp = func(x, *f_vars)\n",
    "    # Confidence/Prediction band\n",
    "    if kind==\"confidence\":\n",
    "        dy = q * se * np.sqrt((1. / N)+(sx / sxd))\n",
    "    elif kind==\"prediction\":\n",
    "        dy = q * se * np.sqrt(1. + (1. / N) + (sx / sxd))\n",
    "    else:\n",
    "        raise ValueError(\"kind must be confidence/prediction.\")\n",
    "\n",
    "    # Upper & lower prediction bands.\n",
    "    lpb, upb = yp - dy, yp + dy\n",
    "\n",
    "    return lpb, upb\n",
    "\n",
    "\n",
    "# Find best fit of data with 3-parameters exponential function.\n",
    "popt, pcov = curve_fit(func, xd, yd)\n",
    "\n",
    "# Generate equi-spaced x values.\n",
    "x = np.linspace(xd.min(), xd.max(), 100)\n",
    "\n",
    "# Call function to generate lower an upper prediction bands.\n",
    "lpb, upb = statband(x, xd, yd, popt, conf=0.95, kind=\"prediction\")\n",
    "lcb, ucb = statband(x, xd, yd, popt, conf=0.95, kind=\"confidence\")\n",
    "\n",
    "plt.figure(figsize=(8,6))\n",
    "plt.scatter(xd, yd, marker=\"o\", color=\"k\", label=\"data\")\n",
    "plt.plot(x, func(x, *popt), color=\"b\", label=\"fit\")\n",
    "plt.plot(x, lcb, \"--\", color=\"r\", label=\"CI 95%\")\n",
    "plt.plot(x, ucb, \"--\", color=\"r\")\n",
    "plt.plot(x, lpb, \"--\", color=\"g\", label=\"PI 95%\")\n",
    "plt.plot(x, upb, \"--\", color=\"g\")\n",
    "plt.legend()"
   ]
  },
  {
   "cell_type": "code",
   "execution_count": 156,
   "metadata": {},
   "outputs": [
    {
     "name": "stdout",
     "output_type": "stream",
     "text": [
      "confidence level: 0.95\n",
      "    Estimate  Std. Error      lwCI      upCI\n",
      "p1  1.327531    0.009723  1.300537  1.354526\n",
      "p0  0.026462    0.001028  0.023608  0.029315\n"
     ]
    },
    {
     "data": {
      "text/plain": [
       "<matplotlib.legend.Legend at 0x1d2be4cdc50>"
      ]
     },
     "execution_count": 156,
     "metadata": {},
     "output_type": "execute_result"
    },
    {
     "data": {
      "image/png": "[encoded data removed]",
      "text/plain": [
       "<matplotlib.figure.Figure at 0x1d2be53ecc0>"
      ]
     },
     "metadata": {},
     "output_type": "display_data"
    }
   ],
   "source": [
    "#http://kitchingroup.cheme.cmu.edu/blog/2013/02/12/Nonlinear-curve-fitting-with-parameter-confidence-intervals/\n",
    "#https://omedstu.jimdo.com/2018/07/16/python%E3%81%A7gaussian-fitting/\n",
    "#https://jp.mathworks.com/help/stats/nlinfit.html\n",
    "#https://org-technology.com/posts/scipy-least-square-fitting.html\n",
    "\n",
    "# Nonlinear curve fit with confidence interval\n",
    "import numpy as np\n",
    "from scipy.optimize import curve_fit\n",
    "from scipy.stats.distributions import  t\n",
    "\n",
    "x = np.array([0.5, 0.387, 0.24, 0.136, 0.04, 0.011])\n",
    "y = np.array([1.255, 1.25, 1.189, 1.124, 0.783, 0.402])\n",
    "\n",
    "# this is the function we want to fit to our data\n",
    "def func(x, a, b):\n",
    "    'nonlinear function in a and b to fit to data'\n",
    "    return a * x / (b + x)\n",
    "\n",
    "def paramband(x, y, popt, pcov, conf=0.95, hide=False):\n",
    "    alpha = 0.05 # 95% confidence interval = 100*(1-alpha)\n",
    "    n = len(y)    # number of data points\n",
    "    p = len(popt) # number of parameters\n",
    "    dof = max(0, n - p) # number of degrees of freedom\n",
    "\n",
    "    # student-t value for the dof and confidence level\n",
    "    tval = t.ppf(1.0-alpha/2., dof) \n",
    "\n",
    "    #estimate standard Error\n",
    "    SE = np.sqrt(np.diag(pcov))\n",
    "    #estimate confidence interval of parameters\n",
    "    lwCI = popt-tval*SE\n",
    "    upCI = popt+tval*SE\n",
    "    \n",
    "    # estimate standard Error\n",
    "    #StdE = np.sqrt(np.diag(pcov))\n",
    "    #lwCI = popt + norm.ppf(q=alpha)*StdE\n",
    "    #upCI = popt + norm.ppf(q=1-alpha)*StdE\n",
    "\n",
    "    index = set()\n",
    "    for i in range(p):\n",
    "        index.add(\"p\"+str(i))\n",
    "    \n",
    "    # print result\n",
    "    mat = np.vstack((popt,SE, lwCI, upCI)).T \n",
    "    df=pd.DataFrame(mat,index=index,\n",
    "                    columns=(\"Estimate\", \"Std. Error\", \"lwCI\",\"upCI\"))\n",
    "    \n",
    "    if not hide:\n",
    "        print(\"confidence level:\", conf)\n",
    "        print(df)\n",
    "    \n",
    "    return df\n",
    "\n",
    "xd = np.array([0.5, 0.387, 0.24, 0.136, 0.04, 0.011])\n",
    "yd = np.array([1.255, 1.25, 1.189, 1.124, 0.783, 0.402])\n",
    "\n",
    "initial_guess = [1.2, 0.03]\n",
    "#Levenberg-Marquardt法で最小二乗問題の解を求める\n",
    "popt, pcov = curve_fit(func, x, y, p0=initial_guess)\n",
    "\n",
    "ci = paramband(xd, yd, popt, pcov)\n",
    "\n",
    "plt.figure(figsize=(8,6))\n",
    "plt.scatter(xd, yd, marker=\"o\", color=\"k\", label=\"data\")\n",
    "x = np.linspace(xd.min(), xd.max(), 100)\n",
    "plt.plot(x, func(x, *popt), color=\"b\", label=\"fit\")\n",
    "plt.plot(x, func(x, *ci[\"lwCI\"]), \"--\", color=\"r\", label=\"CI 95%\")\n",
    "plt.plot(x, func(x, *ci[\"upCI\"]), \"--\", color=\"r\")\n",
    "plt.legend()"
   ]
  },
  {
   "cell_type": "code",
   "execution_count": 155,
   "metadata": {},
   "outputs": [
    {
     "data": {
      "text/plain": [
       "array([ 1.32753143,  0.02646156])"
      ]
     },
     "execution_count": 155,
     "metadata": {},
     "output_type": "execute_result"
    }
   ],
   "source": [
    "popt"
   ]
  },
  {
   "cell_type": "code",
   "execution_count": null,
   "metadata": {},
   "outputs": [],
   "source": []
  }
 ],
 "metadata": {
  "anaconda-cloud": {},
  "kernelspec": {
   "display_name": "Python 3",
   "language": "python",
   "name": "python3"
  },
  "language_info": {
   "codemirror_mode": {
    "name": "ipython",
    "version": 3
   },
   "file_extension": ".py",
   "mimetype": "text/x-python",
   "name": "python",
   "nbconvert_exporter": "python",
   "pygments_lexer": "ipython3",
   "version": "3.5.4"
  }
 },
 "nbformat": 4,
 "nbformat_minor": 2
}
